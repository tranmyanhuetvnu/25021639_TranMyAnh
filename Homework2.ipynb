{
 "cells": [
  {
   "cell_type": "code",
   "execution_count": 2,
   "id": "08f69b92-da94-422d-91a5-f394720bbb04",
   "metadata": {},
   "outputs": [
    {
     "name": "stdin",
     "output_type": "stream",
     "text": [
      " 3 2 \n"
     ]
    },
    {
     "name": "stdout",
     "output_type": "stream",
     "text": [
      "6 10\n"
     ]
    }
   ],
   "source": [
    "#bai 1 \n",
    "a, b = map(int, input().split())\n",
    "print(a * b, 2 * (a+b))"
   ]
  },
  {
   "cell_type": "code",
   "execution_count": 3,
   "id": "6a410e57-1138-4603-a594-feb6d3c58602",
   "metadata": {},
   "outputs": [
    {
     "name": "stdin",
     "output_type": "stream",
     "text": [
      " 2\n"
     ]
    },
    {
     "name": "stdout",
     "output_type": "stream",
     "text": [
      "12.56 12.56\n"
     ]
    }
   ],
   "source": [
    "#bai 2\n",
    "r = int(input())\n",
    "print(3.14 * 2 * r, 3.14 * r * r)"
   ]
  },
  {
   "cell_type": "code",
   "execution_count": 3,
   "id": "01ed6d83-e3b8-40f0-a262-9204a0a760e4",
   "metadata": {},
   "outputs": [
    {
     "name": "stdin",
     "output_type": "stream",
     "text": [
      " 3 4 5\n"
     ]
    },
    {
     "name": "stdout",
     "output_type": "stream",
     "text": [
      "tam giac vuong\n",
      "chu vi: 12\n",
      "dien tich: 6.0\n"
     ]
    }
   ],
   "source": [
    "#bai 3\n",
    "import math\n",
    "a, b, c = map(int, input().split())\n",
    "if a +b  <= c or a + c <= b or b + c <= a:\n",
    "    print(\"khong phai la tam giac\")\n",
    "else: \n",
    "    if a == b == c:\n",
    "        print('tam giac deu')\n",
    "    elif a == b != c or a == c != b or b == c != a:\n",
    "        print('tam giac can')\n",
    "    elif a*a+b*b == c*c or a*a + c*c== b*b or b*b+c*c==a*a:\n",
    "        print('tam giac vuong')\n",
    "    else:\n",
    "        print('tam giac thuong')\n",
    "cv = a + b + c \n",
    "print('chu vi:', cv)\n",
    "p = cv / 2 \n",
    "dt = math.sqrt(p*(p-a)*(p-b)*(p-c))\n",
    "print('dien tich:', dt)"
   ]
  },
  {
   "cell_type": "code",
   "execution_count": 5,
   "id": "0ab4c69e-00a2-4af6-8614-0e0d964787f8",
   "metadata": {},
   "outputs": [
    {
     "name": "stdin",
     "output_type": "stream",
     "text": [
      " 9 0\n"
     ]
    },
    {
     "name": "stdout",
     "output_type": "stream",
     "text": [
      "0\n"
     ]
    }
   ],
   "source": [
    "#bai 4\n",
    "a, b = map(int, input().split())\n",
    "if a != 0:\n",
    "    print(-b/a)\n",
    "elif a == 0 and b == 0:\n",
    "    print(\"0\")\n",
    "else:\n",
    "    print('phuong trinh vo nghiem')"
   ]
  },
  {
   "cell_type": "code",
   "execution_count": 22,
   "id": "8da9e5a5-bf4c-4c70-98c5-27778b1695dd",
   "metadata": {},
   "outputs": [
    {
     "name": "stdin",
     "output_type": "stream",
     "text": [
      " 1 -3 2 \n"
     ]
    },
    {
     "name": "stdout",
     "output_type": "stream",
     "text": [
      "2.0 1.0\n"
     ]
    }
   ],
   "source": [
    "#bai 5\n",
    "import math\n",
    "a, b, c= map(int, input().split())\n",
    "dt = b ** 2 -4*a*c\n",
    "if dt < 0:\n",
    "    print('phuong trinh vo nghiem')\n",
    "elif dt == 0:\n",
    "    print (-b/(2*a))\n",
    "else:\n",
    "    cn = math.sqrt(dt)\n",
    "    x1 = (-b + cn)/ (2*a)\n",
    "    x2 = (-b - cn)/ (2*a)\n",
    "    print(x1, x2)"
   ]
  },
  {
   "cell_type": "code",
   "execution_count": 6,
   "id": "d160b160-b9fd-47dd-b444-bd54231a6ecb",
   "metadata": {},
   "outputs": [
    {
     "name": "stdin",
     "output_type": "stream",
     "text": [
      " 5 7 4 9\n"
     ]
    },
    {
     "name": "stdout",
     "output_type": "stream",
     "text": [
      "9\n"
     ]
    }
   ],
   "source": [
    "()#bai 6\n",
    "a, b, c, d = map(int, input().split())\n",
    "print(max(a, b, c, d))"
   ]
  },
  {
   "cell_type": "code",
   "execution_count": 7,
   "id": "ab895ffa-214b-4f59-87bf-126f4dafe0ce",
   "metadata": {},
   "outputs": [
    {
     "name": "stdin",
     "output_type": "stream",
     "text": [
      " 7 4 7 4\n"
     ]
    },
    {
     "name": "stdout",
     "output_type": "stream",
     "text": [
      "4\n"
     ]
    }
   ],
   "source": [
    "#bai 7\n",
    "a, b, c, d = map(int, input().split())\n",
    "print(min(a, b, c, d))"
   ]
  },
  {
   "cell_type": "code",
   "execution_count": null,
   "id": "3acb2e8a-542c-482b-9903-5d27142bd6cd",
   "metadata": {},
   "outputs": [],
   "source": [
    "#bai 8 \n",
    "a, b, m, c, d, n = map(int, input().split())\n",
    "det = a*d - b*c  \n",
    "if det == 0:\n",
    "    print(\"He phuong trinh vo nghiem hoac vo so nghiem\")\n",
    "else:\n",
    "    x = (m*d - b*n) / det\n",
    "    y = (a*n - m*c) / det\n",
    "    print(x, y)\n"
   ]
  },
  {
   "cell_type": "code",
   "execution_count": 16,
   "id": "e04088dc-fbb0-426e-889c-cafbdabb1de0",
   "metadata": {},
   "outputs": [
    {
     "name": "stdin",
     "output_type": "stream",
     "text": [
      " 3789\n"
     ]
    },
    {
     "name": "stdout",
     "output_type": "stream",
     "text": [
      "1 gio 3 phut 9 giay\n"
     ]
    }
   ],
   "source": [
    "#bai 9\n",
    "x = int(input())\n",
    "h, m = 0, 0\n",
    "\n",
    "if x >= 3600:\n",
    "    h = x // 3600\n",
    "    x -= 3600 * h\n",
    "if x >= 60:\n",
    "    m = x // 60\n",
    "    x -= 60 * m\n",
    "print(h, 'gio', m, 'phut', x, 'giay')"
   ]
  },
  {
   "cell_type": "code",
   "execution_count": 20,
   "id": "2225602e-83a1-4c7b-bbbd-c48c7810fd28",
   "metadata": {},
   "outputs": [
    {
     "name": "stdin",
     "output_type": "stream",
     "text": [
      " 0 0 4 3 1 \n"
     ]
    },
    {
     "name": "stdout",
     "output_type": "stream",
     "text": [
      "co thuoc duong tron\n"
     ]
    }
   ],
   "source": [
    "#bai 10\n",
    "a, b, r, x, y = map(int, input().split())\n",
    "if (x - a) ** 2 + (y - b) ** 2 <= r ** 2:\n",
    "    print('co thuoc duong tron')\n",
    "else:\n",
    "    print('khong thuoc duong tron')"
   ]
  },
  {
   "cell_type": "code",
   "execution_count": 19,
   "id": "0ff7c672-7646-42e6-b6c6-12e1c0cd823b",
   "metadata": {},
   "outputs": [
    {
     "name": "stdin",
     "output_type": "stream",
     "text": [
      " 2 3 \n"
     ]
    },
    {
     "name": "stdout",
     "output_type": "stream",
     "text": [
      "8\n"
     ]
    }
   ],
   "source": [
    "#bai 11\n",
    "x, y = map(int, input().split())\n",
    "print(pow(x, y))"
   ]
  },
  {
   "cell_type": "code",
   "execution_count": null,
   "id": "ca22fa3d-28fc-46a4-a4d9-a3b09a017754",
   "metadata": {},
   "outputs": [],
   "source": []
  }
 ],
 "metadata": {
  "kernelspec": {
   "display_name": "Python 3.13 (D)",
   "language": "python",
   "name": "python_d"
  },
  "language_info": {
   "codemirror_mode": {
    "name": "ipython",
    "version": 3
   },
   "file_extension": ".py",
   "mimetype": "text/x-python",
   "name": "python",
   "nbconvert_exporter": "python",
   "pygments_lexer": "ipython3",
   "version": "3.13.7"
  }
 },
 "nbformat": 4,
 "nbformat_minor": 5
}
