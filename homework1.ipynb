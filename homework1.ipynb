{
 "cells": [
  {
   "cell_type": "code",
   "execution_count": 15,
   "id": "cbebe7de-bcf2-45c0-991f-55fe6f14d630",
   "metadata": {},
   "outputs": [
    {
     "name": "stdin",
     "output_type": "stream",
     "text": [
      " 2\n"
     ]
    },
    {
     "name": "stdout",
     "output_type": "stream",
     "text": [
      "4\n"
     ]
    }
   ],
   "source": [
    "#Bai1\n",
    "n = int(input()) \n",
    "print(2*n) "
   ]
  },
  {
   "cell_type": "code",
   "execution_count": 8,
   "id": "0a9aff92-d24b-4960-9ebd-aa71c0fd0099",
   "metadata": {},
   "outputs": [
    {
     "name": "stdin",
     "output_type": "stream",
     "text": [
      " 4 6\n"
     ]
    },
    {
     "name": "stdout",
     "output_type": "stream",
     "text": [
      "11.44\n"
     ]
    }
   ],
   "source": [
    "#Bai2\n",
    "a, b = map(float, input().split()) \n",
    "s = (a/2) ** 2 * 3.14\n",
    "cay = a * b - s\n",
    "print(\"%.2f\" %cay) "
   ]
  },
  {
   "cell_type": "code",
   "execution_count": 14,
   "id": "9ec1576f-a758-4e12-98bc-104a875726c0",
   "metadata": {},
   "outputs": [
    {
     "name": "stdin",
     "output_type": "stream",
     "text": [
      " Z\n"
     ]
    },
    {
     "name": "stdout",
     "output_type": "stream",
     "text": [
      "z\n"
     ]
    }
   ],
   "source": [
    "#Bai3\n",
    "c = input()\n",
    "if (ord(c) >= 97): \n",
    "    print(chr(ord(c)-32))\n",
    "else: \n",
    "    print(chr(ord(c)+32)) "
   ]
  },
  {
   "cell_type": "code",
   "execution_count": 30,
   "id": "b00745f3-9ce4-488c-8681-27a7c4f36bab",
   "metadata": {},
   "outputs": [
    {
     "name": "stdin",
     "output_type": "stream",
     "text": [
      " d\n"
     ]
    },
    {
     "name": "stdout",
     "output_type": "stream",
     "text": [
      "{c} là kí tự alphabet\n"
     ]
    }
   ],
   "source": [
    "#Bai4\n",
    "c = input()\n",
    "if ( 65 <= ord(c) <= 90 or 97 <= ord(c) <= 122):\n",
    "    print(\"{c} là kí tự alphabet\") \n",
    "else:\n",
    "    print(\"{c} không phải là ký tự alphabet\") "
   ]
  },
  {
   "cell_type": "code",
   "execution_count": 36,
   "id": "5585db0d-60db-436b-84f2-53893aeaf918",
   "metadata": {},
   "outputs": [
    {
     "name": "stdin",
     "output_type": "stream",
     "text": [
      " Z\n"
     ]
    },
    {
     "name": "stdout",
     "output_type": "stream",
     "text": [
      "y\n"
     ]
    }
   ],
   "source": [
    "#Bai5\n",
    "c = input()\n",
    "if (c == 'A'): \n",
    "    print(\"là đặc biệt\") \n",
    "else: \n",
    "    print(chr(ord(c) + 31)) "
   ]
  },
  {
   "cell_type": "code",
   "execution_count": 42,
   "id": "33932b1f-395e-43e3-8fcb-0a964598819b",
   "metadata": {},
   "outputs": [
    {
     "name": "stdin",
     "output_type": "stream",
     "text": [
      " 4 4 4 \n"
     ]
    },
    {
     "name": "stdout",
     "output_type": "stream",
     "text": [
      "6.9\n"
     ]
    }
   ],
   "source": [
    "#Bai6\n",
    "import math\n",
    "a, b, c = map(int, input().split()) \n",
    "if( a + b <= c or a + c <= b or b + c <= a): \n",
    "    print(\"Không phải 3 cạnh của tam giác\") \n",
    "else: \n",
    "    p = (a +b + c)/2 \n",
    "    s = math.sqrt(p*(p-a)*(p-b)*(p-c)) \n",
    "    print(\"%.1f\" %s) "
   ]
  },
  {
   "cell_type": "code",
   "execution_count": 87,
   "id": "61549508-c638-464b-8087-2ba6741a8c9b",
   "metadata": {},
   "outputs": [
    {
     "name": "stdin",
     "output_type": "stream",
     "text": [
      " 2341328501234\n"
     ]
    },
    {
     "name": "stdout",
     "output_type": "stream",
     "text": [
      "3 0\n"
     ]
    }
   ],
   "source": [
    "#Bai7\n",
    "s = input()\n",
    "print(s[4], s[8]) "
   ]
  },
  {
   "cell_type": "code",
   "execution_count": 101,
   "id": "39cd9052-1704-41b5-9b70-c841cc8a0f39",
   "metadata": {},
   "outputs": [
    {
     "name": "stdin",
     "output_type": "stream",
     "text": [
      "Ten chu ho:  tma\n",
      "Chi so thang truoc:  1020\n",
      "Chi so thang nay:  1070\n"
     ]
    },
    {
     "name": "stdout",
     "output_type": "stream",
     "text": [
      "Ho va ten: tma\n",
      "Tien phai tra la: 107136\n"
     ]
    }
   ],
   "source": [
    "#Bai8\n",
    "import math\n",
    "ten = input(\"Ten chu ho: \") \n",
    "tt = int(input(\"Chi so thang truoc: \")) \n",
    "tn = int(input(\"Chi so thang nay: \")) \n",
    "sd = tn - tt\n",
    "bac = [50, 50, 100, 100, 100] \n",
    "gt = [1984, 2050, 2380, 2998, 3350, 3460] \n",
    "td = 0\n",
    "i = 0\n",
    "while( sd > 0 and i < 5): \n",
    "    if(sd > bac[i]): \n",
    "        td += gt[i] * bac[i]\n",
    "        sd -= bac[i]\n",
    "    else: \n",
    "        td += gt[i] * sd\n",
    "        sd = 0\n",
    "    i += 1\n",
    "if(sd > 0):\n",
    "    td += sd * 3460\n",
    "print(\"Ho va ten:\", ten)\n",
    "print(\"Tien phai tra la:\",round(td * 1.08)) "
   ]
  },
  {
   "cell_type": "code",
   "execution_count": 47,
   "id": "97a240cf-8c6f-47b0-8d27-daf997f5bcd2",
   "metadata": {},
   "outputs": [
    {
     "name": "stdin",
     "output_type": "stream",
     "text": [
      " 3\n"
     ]
    },
    {
     "name": "stdout",
     "output_type": "stream",
     "text": [
      "so le\n"
     ]
    }
   ],
   "source": [
    "#1 \n",
    "c = int(input())\n",
    "if(c % 2 == 0): \n",
    "    print(\"so chan\") \n",
    "else: \n",
    "    print(\"so le\") "
   ]
  },
  {
   "cell_type": "code",
   "execution_count": 49,
   "id": "ac38898c-534d-4f18-9d44-f9b9f030ad94",
   "metadata": {},
   "outputs": [
    {
     "name": "stdin",
     "output_type": "stream",
     "text": [
      " 20\n"
     ]
    },
    {
     "name": "stdout",
     "output_type": "stream",
     "text": [
      "False\n"
     ]
    }
   ],
   "source": [
    "#2 \n",
    "a = int(input()) \n",
    "print(a % 10 == 5) "
   ]
  },
  {
   "cell_type": "code",
   "execution_count": 51,
   "id": "a8f2cd01-5119-4b3c-87c3-d93aa93d7b59",
   "metadata": {},
   "outputs": [
    {
     "name": "stdin",
     "output_type": "stream",
     "text": [
      " 378\n"
     ]
    },
    {
     "name": "stdout",
     "output_type": "stream",
     "text": [
      "False\n"
     ]
    }
   ],
   "source": [
    "#3 \n",
    "a = int(input()) \n",
    "print(a % 15 ==0) "
   ]
  },
  {
   "cell_type": "code",
   "execution_count": 53,
   "id": "c34d7e32-da62-47a2-b6b1-85cb542b8b10",
   "metadata": {},
   "outputs": [
    {
     "name": "stdin",
     "output_type": "stream",
     "text": [
      " 1945\n"
     ]
    },
    {
     "name": "stdout",
     "output_type": "stream",
     "text": [
      "yes\n"
     ]
    }
   ],
   "source": [
    "#4\n",
    "b = int(input()) \n",
    "if(b <= 2007): \n",
    "    print(\"yes\") \n",
    "else: \n",
    "    print(\"no\")"
   ]
  },
  {
   "cell_type": "code",
   "execution_count": 60,
   "id": "937c7987-adb3-4f4f-995f-7b90f10de367",
   "metadata": {},
   "outputs": [
    {
     "name": "stdin",
     "output_type": "stream",
     "text": [
      " 4 3 \n"
     ]
    },
    {
     "name": "stdout",
     "output_type": "stream",
     "text": [
      "4\n"
     ]
    }
   ],
   "source": [
    "#5\n",
    "a, b = map(int, input().split())\n",
    "if(a > b):\n",
    "    print(a) \n",
    "elif (a < b):\n",
    "    print(b) \n",
    "else:\n",
    "    print(\"bằng nhau\") \n",
    "    \n",
    "    "
   ]
  },
  {
   "cell_type": "code",
   "execution_count": 65,
   "id": "be92dbcf-c4c7-4069-ad7b-df363be38aaf",
   "metadata": {},
   "outputs": [
    {
     "name": "stdin",
     "output_type": "stream",
     "text": [
      " 0\n"
     ]
    },
    {
     "name": "stdout",
     "output_type": "stream",
     "text": [
      "so\n"
     ]
    }
   ],
   "source": [
    "#6 \n",
    "c = input() \n",
    "if( 65 <= ord(c) <= 90 or 97 <= ord(c) <= 122):\n",
    "    print(\"chu cai\") \n",
    "elif ( 48 <= ord(c) <= 57): \n",
    "    print(\"so\") "
   ]
  },
  {
   "cell_type": "code",
   "execution_count": 69,
   "id": "34090e37-85ee-4b1d-aae6-e0d089b227bb",
   "metadata": {},
   "outputs": [
    {
     "name": "stdin",
     "output_type": "stream",
     "text": [
      " 7\n"
     ]
    },
    {
     "name": "stdout",
     "output_type": "stream",
     "text": [
      "Khá\n"
     ]
    }
   ],
   "source": [
    "#7\n",
    "a = float(input()) \n",
    "if (a >= 8): \n",
    "    print(\"Giỏi\")\n",
    "elif(6.5 <= a < 8): \n",
    "    print(\"Khá\")\n",
    "elif(5 <= a < 6.5): \n",
    "    print(\"Trung bình\")\n",
    "else:\n",
    "    print(\"Yếu\")"
   ]
  },
  {
   "cell_type": "code",
   "execution_count": 73,
   "id": "27cc64cf-a512-4da8-970c-c482278321e1",
   "metadata": {},
   "outputs": [
    {
     "name": "stdin",
     "output_type": "stream",
     "text": [
      " 2020\n"
     ]
    },
    {
     "name": "stdout",
     "output_type": "stream",
     "text": [
      "nam nhuan\n"
     ]
    }
   ],
   "source": [
    "#8 \n",
    "c = int(input())\n",
    "if(c % 400 == 0 or (c % 100 != 0 and c % 4 == 0)):\n",
    "    print(\"nam nhuan\") \n",
    "else:\n",
    "    print(\"khong phai nam nhuan\") "
   ]
  },
  {
   "cell_type": "code",
   "execution_count": 77,
   "id": "26fb4b38-e428-4f20-91c8-9c34e6c39cec",
   "metadata": {},
   "outputs": [
    {
     "name": "stdin",
     "output_type": "stream",
     "text": [
      " 2\n"
     ]
    },
    {
     "name": "stdout",
     "output_type": "stream",
     "text": [
      "Hai\n"
     ]
    }
   ],
   "source": [
    "#9\n",
    "c = input() \n",
    "match c: \n",
    "    case \"0\": \n",
    "        print(\"Không\")\n",
    "    case \"1\": \n",
    "        print(\"Một\") \n",
    "    case \"2\": \n",
    "        print(\"Hai\") \n",
    "    case \"3\": \n",
    "        print(\"Ba\") \n",
    "    case \"4\": \n",
    "        print(\"Bốn\")\n",
    "    case \"5\": \n",
    "        print(\"Năm\") \n",
    "    case \"6\": \n",
    "        print(\"Sáu\") \n",
    "    case \"7\": \n",
    "        print(\"Bảy\") \n",
    "    case \"8\": \n",
    "        print(\"Tám\") \n",
    "    case \"9\": \n",
    "        print(\"Chín\")"
   ]
  },
  {
   "cell_type": "code",
   "execution_count": 79,
   "id": "8f718a9f-d158-404c-a942-c03834170f9b",
   "metadata": {},
   "outputs": [
    {
     "name": "stdin",
     "output_type": "stream",
     "text": [
      " 3\n"
     ]
    },
    {
     "name": "stdout",
     "output_type": "stream",
     "text": [
      "Học lại\n"
     ]
    }
   ],
   "source": [
    "#10\n",
    "p = int(input()) \n",
    "if( p >= 4): \n",
    "    print(\"Qua môn\") \n",
    "else:\n",
    "    print(\"Học lại\") "
   ]
  },
  {
   "cell_type": "code",
   "execution_count": 82,
   "id": "c04e081b-513c-485a-87f3-96f87ac90c6f",
   "metadata": {},
   "outputs": [
    {
     "name": "stdin",
     "output_type": "stream",
     "text": [
      " 2010\n"
     ]
    },
    {
     "name": "stdout",
     "output_type": "stream",
     "text": [
      "Chưa đủ 18 tuổi\n"
     ]
    }
   ],
   "source": [
    "#11\n",
    "n = int(input())\n",
    "if( 2025 - n >= 18):\n",
    "    print(\"Đã đủ 18 tuổi\")\n",
    "else:\n",
    "    print(\"Chưa đủ 18 tuổi\")"
   ]
  }
 ],
 "metadata": {
  "kernelspec": {
   "display_name": "Python 3.13 (D)",
   "language": "python",
   "name": "python_d"
  },
  "language_info": {
   "codemirror_mode": {
    "name": "ipython",
    "version": 3
   },
   "file_extension": ".py",
   "mimetype": "text/x-python",
   "name": "python",
   "nbconvert_exporter": "python",
   "pygments_lexer": "ipython3",
   "version": "3.13.7"
  }
 },
 "nbformat": 4,
 "nbformat_minor": 5
}
