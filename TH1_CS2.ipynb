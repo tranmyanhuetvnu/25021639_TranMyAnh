{
 "cells": [
  {
   "cell_type": "code",
   "execution_count": 7,
   "id": "9434b1a5-4c3b-4e4b-8c7c-de200b74acc8",
   "metadata": {},
   "outputs": [
    {
     "name": "stdout",
     "output_type": "stream",
     "text": [
      "2\n"
     ]
    }
   ],
   "source": [
    "#W1A1 \n",
    "a = 7      # gán giá trị 7 cho biến a\n",
    "b = 5      # gán giá trị 5 cho biến b\n",
    "c = a - b  # tính hiệu của a và b, lưu vào c\n",
    "print(c)   # in kết quả ra màn hình\n",
    "\n",
    "\n",
    "\n",
    "\n"
   ]
  },
  {
   "cell_type": "code",
   "execution_count": 9,
   "id": "2a3c9869-ad9a-44b5-a58b-7c50c86f1cab",
   "metadata": {},
   "outputs": [
    {
     "name": "stdout",
     "output_type": "stream",
     "text": [
      "Thành phố:  Hà Nội  - Năm:  2025\n"
     ]
    }
   ],
   "source": [
    "#W1A2 \n",
    "city = \"Hà Nội\"        # Tạo biến city và gán giá trị chuỗi \"Hà Nội\"\n",
    "year = 2025            # Tạo biến year và gán giá trị số nguyên 2025\n",
    "print(\"Thành phố: \", city, \" - Năm: \", year)  \n",
    "# Dùng hàm print để in ra màn hình:\n",
    "# \"Thành phố: \" + giá trị của city + \" - Năm: \" + giá trị của year\n",
    "# Kết quả hiển thị: Thành phố:  Hà Nội  - Năm:  2025\n",
    "\n"
   ]
  },
  {
   "cell_type": "code",
   "execution_count": 11,
   "id": "aa21774d-0fda-4e52-94a7-c80152525ff0",
   "metadata": {},
   "outputs": [
    {
     "name": "stdout",
     "output_type": "stream",
     "text": [
      "10\n"
     ]
    }
   ],
   "source": [
    "#W1A3\n",
    "n = 4            # Tạo biến n và gán giá trị 4, nghĩa là chúng ta sẽ tính tổng từ 1 đến 4\n",
    "t = 0            # Tạo biến t để lưu tổng, khởi tạo bằng 0\n",
    "\n",
    "for i in range(1, n+1):  # Vòng lặp từ i = 1 đến i = n (tức 4), vì range(a, b) chạy từ a đến b-1\n",
    "    t += i                # Mỗi lần lặp, cộng giá trị i vào biến t (t = t + i)\n",
    "\n",
    "print(t)           # In ra kết quả của tổng t, kết quả sẽ là 1 + 2 + 3 + 4 = 10\n"
   ]
  },
  {
   "cell_type": "code",
   "execution_count": 13,
   "id": "9b7d9e28-5065-4525-94fc-56f3975f7fef",
   "metadata": {},
   "outputs": [
    {
     "name": "stdout",
     "output_type": "stream",
     "text": [
      "1 là số lẻ\n",
      "2 là số chẵn\n",
      "3 là số lẻ\n",
      "4 là số chẵn\n"
     ]
    }
   ],
   "source": [
    "#W1A4\n",
    "numbers = [1, 2, 3, 4]       # Tạo danh sách numbers chứa các số 1, 2, 3, 4\n",
    "\n",
    "for x in numbers:             # Duyệt từng phần tử trong danh sách numbers\n",
    "    if x % 2 == 0:            # Kiểm tra xem x có chia hết cho 2 không (số chẵn)\n",
    "        print(x, \"là số chẵn\")  # Nếu đúng, in ra \"x là số chẵn\"\n",
    "    else:                     # Nếu không chia hết cho 2\n",
    "        print(x, \"là số lẻ\")    # In ra \"x là số lẻ\"\n"
   ]
  },
  {
   "cell_type": "code",
   "execution_count": 14,
   "id": "18a83131-5923-4381-ad13-dafd6dd25647",
   "metadata": {},
   "outputs": [
    {
     "name": "stdout",
     "output_type": "stream",
     "text": [
      "Số phần tử trong danh sách là: 4\n"
     ]
    }
   ],
   "source": [
    "#W1A5 \n",
    "animals = [\"cat\", \"dog\", \"cat\", \"bird\"]  # Tạo danh sách animals chứa các động vật\n",
    "count = 0                                 # Tạo biến count để đếm số phần tử, khởi tạo bằng 0\n",
    "\n",
    "for a in animals:                         # Duyệt từng phần tử trong danh sách animals\n",
    "    count += 1                             # Mỗi lần lặp, tăng count lên 1 (tức là đếm số phần tử)\n",
    "\n",
    "print(\"Số phần tử trong danh sách là:\", count)  # In ra số phần tử của danh sách\n"
   ]
  },
  {
   "cell_type": "code",
   "execution_count": null,
   "id": "1dadb982-fa7f-4efc-93fd-f61f650b4173",
   "metadata": {},
   "outputs": [],
   "source": [
    "#W1A6\n",
    "=== AI Prediction System ===\n",
    "1) Sentiment analysis\n",
    "2) Weather forecast\n",
    "3) Exit\n",
    "Please choose an option:\n",
    "1. Chương trình đang làm gì:\n",
    "\n",
    "Đây là menu lựa chọn cho người dùng.\n",
    "\n",
    "Chương trình có tên \"AI Prediction System\" → nghĩa là nó cung cấp các chức năng dự đoán dựa trên AI.\n",
    "\n",
    "Các tùy chọn:\n",
    "\n",
    "Sentiment analysis → Phân tích cảm xúc của văn bản (ví dụ, biết một câu là tích cực hay tiêu cực).\n",
    "\n",
    "Weather forecast → Dự báo thời tiết.\n",
    "\n",
    "Exit → Thoát chương trình.\n",
    "\n",
    "Dòng Please choose an option: là chương trình đang chờ người dùng nhập số (1, 2 hoặc 3) để chọn chức năng.\n",
    "\n",
    "2. Vì sao có kết quả như vậy:\n",
    "\n",
    "Vì đây là phần đầu của giao diện người dùng, chưa có kết quả phân tích hay dự báo.\n",
    "\n",
    "Chương trình chưa thực hiện thao tác gì, nó chỉ đang hiển thị menu và chờ input từ người dùng.\n",
    "\n",
    "Nếu bạn nhập 1, nó sẽ thực hiện sentiment analysis; nhập 2, nó thực hiện weather forecast; nhập 3, chương trình sẽ thoát.\n"
   ]
  },
  {
   "cell_type": "code",
   "execution_count": 18,
   "id": "074dde17-329b-45e0-bd99-f522a05d80de",
   "metadata": {},
   "outputs": [
    {
     "name": "stdin",
     "output_type": "stream",
     "text": [
      "Nhập số:  2\n"
     ]
    },
    {
     "name": "stdout",
     "output_type": "stream",
     "text": [
      "Số chẵn\n"
     ]
    }
   ],
   "source": [
    "#W1A7\n",
    "num = int(input(\"Nhập số: \"))  # Chuyển input từ chuỗi sang số nguyên\n",
    "\n",
    "if num % 2 == 0:               # Dùng == để so sánh, kiểm tra số chẵn\n",
    "    print(\"Số chẵn\")           # Thụt lề 4 dấu cách\n",
    "else:\n",
    "    print(\"Số lẻ\")             # Thụt lề 4 dấu cách\n"
   ]
  },
  {
   "cell_type": "code",
   "execution_count": 19,
   "id": "446034a7-ea69-408c-9afd-98d4efc39a27",
   "metadata": {},
   "outputs": [
    {
     "name": "stdout",
     "output_type": "stream",
     "text": [
      "AI đang học lần 1\n",
      "AI đang học lần 2\n",
      "AI đang học lần 3\n",
      "Huấn luyện xong!\n"
     ]
    }
   ],
   "source": [
    "#W1A8\n",
    "for i in range(3):                    # Vòng lặp chạy 3 lần, i lần lượt là 0, 1, 2\n",
    "    print(\"AI đang học lần\", i + 1)   # In ra thông báo số lần học (i+1 để bắt đầu từ 1)\n",
    "    \n",
    "print(\"Huấn luyện xong!\")             # Sau khi vòng lặp kết thúc, in thông báo hoàn tất\n"
   ]
  },
  {
   "cell_type": "code",
   "execution_count": 21,
   "id": "cab27be4-a237-4c5c-b357-976eb5152660",
   "metadata": {},
   "outputs": [
    {
     "name": "stdout",
     "output_type": "stream",
     "text": [
      "Dự đoán con vật: cat\n",
      "Dự đoán con vật: dog\n",
      "Dự đoán con vật: fish\n"
     ]
    }
   ],
   "source": [
    "#W1A9\n",
    "for x in [\"cat\", \"dog\", \"fish\"]:          # Duyệt từng phần tử trong danh sách [\"cat\", \"dog\", \"fish\"]\n",
    "    print(\"Dự đoán con vật:\", x)         # In ra tên con vật hiện tại (x)\n"
   ]
  },
  {
   "cell_type": "code",
   "execution_count": null,
   "id": "03afd5ea-0f70-4917-8fe9-371c16a92ba2",
   "metadata": {},
   "outputs": [],
   "source": [
    "#W1A10\n",
    "# Simple menu\n",
    "\n",
    "print \"=== AI Prediction System ===\"  \n",
    "# Lỗi: Trong Python 3, print phải dùng dấu ngoặc tròn\n",
    "# Sửa: print(\"=== AI Prediction System ===\")\n",
    "\n",
    "print(\"1) Sentiment analysis\"  \n",
    "# Lỗi: Thiếu dấu ngoặc tròn đóng ở cuối\n",
    "# Sửa: print(\"1) Sentiment analysis\")\n",
    "\n",
    "print(\"2) Weather forecast\"))  \n",
    "# Lỗi: Thừa 1 dấu ngoặc tròn\n",
    "# Sửa: print(\"2) Weather forecast\")\n",
    "\n",
    "print('3) Exit'  \n",
    "# Lỗi: Thiếu dấu ngoặc tròn đóng\n",
    "# Sửa: print('3) Exit')\n",
    "\n",
    "print(\"Please choose an option:\")  \n",
    "# Dòng này đúng, không cần sửa\n"
   ]
  }
 ],
 "metadata": {
  "kernelspec": {
   "display_name": "Python 3 (ipykernel)",
   "language": "python",
   "name": "python3"
  },
  "language_info": {
   "codemirror_mode": {
    "name": "ipython",
    "version": 3
   },
   "file_extension": ".py",
   "mimetype": "text/x-python",
   "name": "python",
   "nbconvert_exporter": "python",
   "pygments_lexer": "ipython3",
   "version": "3.13.7"
  }
 },
 "nbformat": 4,
 "nbformat_minor": 5
}
