{
 "cells": [
  {
   "cell_type": "code",
   "execution_count": 1,
   "id": "5835ee30-bb1c-47af-a1d2-3ac7a484b189",
   "metadata": {},
   "outputs": [
    {
     "name": "stdout",
     "output_type": "stream",
     "text": [
      "Hello World!\n"
     ]
    }
   ],
   "source": [
    "#W2A1\n",
    "print(\"Hello World!\")"
   ]
  },
  {
   "cell_type": "code",
   "execution_count": 3,
   "id": "03833265-b580-4096-8543-8ab7fb80771b",
   "metadata": {},
   "outputs": [
    {
     "name": "stdin",
     "output_type": "stream",
     "text": [
      " mỹ anh\n"
     ]
    },
    {
     "name": "stdout",
     "output_type": "stream",
     "text": [
      "Xin chào, mỹ anh\n"
     ]
    }
   ],
   "source": [
    "#W2A2\n",
    "name = input()\n",
    "print(\"Xin chào,\", name)"
   ]
  },
  {
   "cell_type": "code",
   "execution_count": 10,
   "id": "8ac31fe0-31af-4b46-b1e6-c0e2a6ee9816",
   "metadata": {},
   "outputs": [
    {
     "name": "stdin",
     "output_type": "stream",
     "text": [
      " 5 2 \n"
     ]
    },
    {
     "name": "stdout",
     "output_type": "stream",
     "text": [
      "7 3 10 2 1 2.50\n"
     ]
    }
   ],
   "source": [
    "#W2A3\n",
    "a, b = map(int, input().split())\n",
    "print(a + b, a - b, a * b, a //b, a  % b, f\"{a/b:.2f}\" )"
   ]
  },
  {
   "cell_type": "code",
   "execution_count": 13,
   "id": "e61b71bb-7753-49f9-ba0c-a0d19ec96303",
   "metadata": {},
   "outputs": [
    {
     "name": "stdin",
     "output_type": "stream",
     "text": [
      " 3 4 5 6 7 8\n"
     ]
    },
    {
     "name": "stdout",
     "output_type": "stream",
     "text": [
      "6.2\n"
     ]
    }
   ],
   "source": [
    "#W2A4\n",
    "a1, b1, c1, a2, b2, a3 =  map(int, input().split()) \n",
    "tb = ((a1+b1+c1) + (a2+b2)*2 + a3*3)/10\n",
    "print(f\"{tb:.1f}\")"
   ]
  },
  {
   "cell_type": "code",
   "execution_count": 14,
   "id": "c28641c5-0215-42d5-a7b2-4995990facf9",
   "metadata": {},
   "outputs": [
    {
     "name": "stdin",
     "output_type": "stream",
     "text": [
      " 2 3 \n"
     ]
    },
    {
     "name": "stdout",
     "output_type": "stream",
     "text": [
      "8\n"
     ]
    }
   ],
   "source": [
    "#W2A5\n",
    "a,b = map(int, input().split())\n",
    "print(a ** b) "
   ]
  },
  {
   "cell_type": "code",
   "execution_count": 17,
   "id": "9093be36-43ff-427e-86fd-99077aea9465",
   "metadata": {},
   "outputs": [
    {
     "name": "stdin",
     "output_type": "stream",
     "text": [
      " d\n"
     ]
    },
    {
     "name": "stdout",
     "output_type": "stream",
     "text": [
      "D\n"
     ]
    }
   ],
   "source": [
    "#W2A6 \n",
    "a = input()\n",
    "print(chr(ord(a) -32))\n"
   ]
  },
  {
   "cell_type": "code",
   "execution_count": 18,
   "id": "147c5a46-72a3-4621-9586-70fe6f0cddab",
   "metadata": {},
   "outputs": [
    {
     "name": "stdout",
     "output_type": "stream",
     "text": [
      "512 512\n"
     ]
    }
   ],
   "source": [
    "#W2A7\n",
    "A = ((13 ** 2) * 3) + 5\n",
    "B = 13**2*3 + 5\n",
    "print(A, B) "
   ]
  },
  {
   "cell_type": "code",
   "execution_count": 22,
   "id": "bc6bb936-d176-4756-be7e-e2863aac6885",
   "metadata": {},
   "outputs": [
    {
     "name": "stdin",
     "output_type": "stream",
     "text": [
      " 32 \n"
     ]
    },
    {
     "name": "stdout",
     "output_type": "stream",
     "text": [
      "89.60\n"
     ]
    }
   ],
   "source": [
    "#W2A8\n",
    "C = float(input())\n",
    "F = (9/5)*C + 32\n",
    "print(f\"{F:.2f}\")"
   ]
  },
  {
   "cell_type": "code",
   "execution_count": 25,
   "id": "4b33e6ec-0c8a-4b23-925a-04a8b8fc873b",
   "metadata": {},
   "outputs": [
    {
     "name": "stdin",
     "output_type": "stream",
     "text": [
      " 39 \n"
     ]
    },
    {
     "name": "stdout",
     "output_type": "stream",
     "text": [
      "64.60\n"
     ]
    }
   ],
   "source": [
    "#W2A9\n",
    "x = float(input()) \n",
    "gt = x + x * 0.4 + 10\n",
    "print(f\"{gt:.2f}\")\n"
   ]
  },
  {
   "cell_type": "code",
   "execution_count": 29,
   "id": "0a591dd3-0bc1-403c-a420-e259f57ccf4e",
   "metadata": {},
   "outputs": [
    {
     "name": "stdin",
     "output_type": "stream",
     "text": [
      " b a h \n"
     ]
    },
    {
     "name": "stdout",
     "output_type": "stream",
     "text": [
      "Hi, h a b\n"
     ]
    }
   ],
   "source": [
    "#W2A10\n",
    "a, b, c = map(str, input().split()) \n",
    "print(\"Hi,\", c, b, a) \n"
   ]
  },
  {
   "cell_type": "code",
   "execution_count": 30,
   "id": "543d7eb0-df73-4de0-bee7-46900621195d",
   "metadata": {},
   "outputs": [
    {
     "name": "stdin",
     "output_type": "stream",
     "text": [
      " 2 30 \n"
     ]
    },
    {
     "name": "stdout",
     "output_type": "stream",
     "text": [
      "9000\n"
     ]
    }
   ],
   "source": [
    "#W2A11\n",
    "h, m = map(int, input().split()) \n",
    "s = h * 3600 + m*60 \n",
    "print(s) "
   ]
  },
  {
   "cell_type": "code",
   "execution_count": 33,
   "id": "dcb59343-a33b-4aaf-a454-0c504145ef71",
   "metadata": {},
   "outputs": [
    {
     "name": "stdin",
     "output_type": "stream",
     "text": [
      " 3\n"
     ]
    },
    {
     "name": "stdout",
     "output_type": "stream",
     "text": [
      "18\n"
     ]
    }
   ],
   "source": [
    "#W2A12 \n",
    "n = int(input())\n",
    "print(n * 6)"
   ]
  },
  {
   "cell_type": "code",
   "execution_count": 34,
   "id": "5ab85473-f744-4045-b781-939157d30e63",
   "metadata": {},
   "outputs": [
    {
     "name": "stdin",
     "output_type": "stream",
     "text": [
      " 3 4 \n"
     ]
    },
    {
     "name": "stdout",
     "output_type": "stream",
     "text": [
      "2\n"
     ]
    }
   ],
   "source": [
    "#W2A13\n",
    "a, b = map(int, input().split()) \n",
    "r = (a*b) % 10\n",
    "print(r) "
   ]
  },
  {
   "cell_type": "code",
   "execution_count": 35,
   "id": "e9882aaf-a13e-483e-ac3e-14a25e95c365",
   "metadata": {},
   "outputs": [
    {
     "name": "stdin",
     "output_type": "stream",
     "text": [
      " 7 4 \n"
     ]
    },
    {
     "name": "stdout",
     "output_type": "stream",
     "text": [
      "4 7\n"
     ]
    }
   ],
   "source": [
    "#W2A14\n",
    "a, b = map(int, input().split()) \n",
    "a = a + b\n",
    "b = a - b\n",
    "a = a - b \n",
    "print(a, b) "
   ]
  },
  {
   "cell_type": "code",
   "execution_count": 38,
   "id": "9ba2f46b-b57a-4de0-a903-08440855c4b3",
   "metadata": {},
   "outputs": [
    {
     "name": "stdin",
     "output_type": "stream",
     "text": [
      " 3\n"
     ]
    },
    {
     "name": "stdout",
     "output_type": "stream",
     "text": [
      "19\n"
     ]
    }
   ],
   "source": [
    "#W2A15\n",
    "n = int(input())\n",
    "print(3*n*(n-1) + 1) "
   ]
  },
  {
   "cell_type": "code",
   "execution_count": 39,
   "id": "0bd0474a-55f6-49f1-818b-bd04c98d32e0",
   "metadata": {},
   "outputs": [
    {
     "name": "stdout",
     "output_type": "stream",
     "text": [
      "Spring\n",
      "Summer\n",
      "Autumn\n",
      "Winter\n"
     ]
    }
   ],
   "source": [
    "#W2A16 \n",
    "print(\"Spring\\nSummer\\nAutumn\\nWinter\")"
   ]
  },
  {
   "cell_type": "code",
   "execution_count": 41,
   "id": "d79587df-9463-4994-b440-05a7fda77873",
   "metadata": {},
   "outputs": [
    {
     "name": "stdout",
     "output_type": "stream",
     "text": [
      "*\n",
      "***\n",
      "*****\n"
     ]
    }
   ],
   "source": [
    "#W2A17\n",
    "print(\"*\") \n",
    "print(\"***\") \n",
    "print(\"*****\") "
   ]
  },
  {
   "cell_type": "code",
   "execution_count": 53,
   "id": "0125869c-4d3e-479d-a39e-d6a5194db141",
   "metadata": {},
   "outputs": [
    {
     "name": "stdout",
     "output_type": "stream",
     "text": [
      "### ##  ### ###\n",
      " #  # #  #   #\n",
      " #  #  # #   #\n",
      " #  # #  #   #\n",
      " #  ##   #   #\n"
     ]
    }
   ],
   "source": [
    "#W2A18\n",
    "print(\"### ##  ### ###\")\n",
    "print(\" #  # #  #   #\")\n",
    "print(\" #  #  # #   #\")\n",
    "print(\" #  # #  #   #\")\n",
    "print(\" #  ##   #   #\")"
   ]
  },
  {
   "cell_type": "code",
   "execution_count": 54,
   "id": "ced17bea-be98-4521-b41c-307950109324",
   "metadata": {},
   "outputs": [
    {
     "name": "stdout",
     "output_type": "stream",
     "text": [
      "Monday\n",
      "Tuesday\n",
      "Wednesday\n",
      "Thursday\n",
      "Friday\n",
      "Saturday\n",
      "Sunday\n"
     ]
    }
   ],
   "source": [
    "#W2A19\n",
    "print(\"Monday\\nTuesday\\nWednesday\\nThursday\\nFriday\\nSaturday\\nSunday\")"
   ]
  },
  {
   "cell_type": "code",
   "execution_count": 55,
   "id": "ae68faad-a25e-4e74-ad59-ccf36784d341",
   "metadata": {},
   "outputs": [
    {
     "name": "stdout",
     "output_type": "stream",
     "text": [
      "January\n",
      "February\n",
      "March\n",
      "April\n",
      "May\n",
      "June\n",
      "July\n",
      "August\n",
      "September\n",
      "October\n",
      "November\n",
      "December\n"
     ]
    }
   ],
   "source": [
    "#W2A20\n",
    "print(\"January\\nFebruary\\nMarch\\nApril\\nMay\\nJune\\nJuly\\nAugust\\nSeptember\\nOctober\\nNovember\\nDecember\")"
   ]
  },
  {
   "cell_type": "code",
   "execution_count": 57,
   "id": "e274fac6-5b37-4ba9-8652-21e75d6f68e8",
   "metadata": {},
   "outputs": [
    {
     "name": "stdout",
     "output_type": "stream",
     "text": [
      "Hello, world\n",
      "Hello, world\n",
      "Hello, world\n",
      "Hello, world\n",
      "Hello, world\n",
      "Hello, world\n",
      "Hello, world\n",
      "Hello, world\n",
      "Hello, world\n",
      "Hello, world\n"
     ]
    }
   ],
   "source": [
    "#W2A21\n",
    "for i in range (1, 11):\n",
    "    print(\"Hello, world\")"
   ]
  },
  {
   "cell_type": "code",
   "execution_count": null,
   "id": "74750c8b-5d08-46f5-a9ce-0042d9179c80",
   "metadata": {},
   "outputs": [],
   "source": []
  }
 ],
 "metadata": {
  "kernelspec": {
   "display_name": "Python 3 (ipykernel)",
   "language": "python",
   "name": "python3"
  },
  "language_info": {
   "codemirror_mode": {
    "name": "ipython",
    "version": 3
   },
   "file_extension": ".py",
   "mimetype": "text/x-python",
   "name": "python",
   "nbconvert_exporter": "python",
   "pygments_lexer": "ipython3",
   "version": "3.13.7"
  }
 },
 "nbformat": 4,
 "nbformat_minor": 5
}
