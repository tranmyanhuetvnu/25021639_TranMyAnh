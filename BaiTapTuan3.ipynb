{
 "cells": [
  {
   "cell_type": "code",
   "execution_count": 3,
   "id": "1a6af6f5-86e0-4bf9-adbd-6a1abd39be6e",
   "metadata": {},
   "outputs": [
    {
     "name": "stdin",
     "output_type": "stream",
     "text": [
      " 3 4 \n"
     ]
    },
    {
     "name": "stdout",
     "output_type": "stream",
     "text": [
      "4 3\n"
     ]
    }
   ],
   "source": [
    "#W3A2\n",
    "a, b = map(int, input().split())\n",
    "a, b = b, a\n",
    "print(a, b)"
   ]
  },
  {
   "cell_type": "code",
   "execution_count": 4,
   "id": "425919cc-33c4-4d8b-892a-100bff87618d",
   "metadata": {},
   "outputs": [],
   "source": [
    "#W3A3\n"
   ]
  },
  {
   "cell_type": "code",
   "execution_count": 6,
   "id": "1f530f64-f429-4d0d-b980-ce15f8d212ee",
   "metadata": {},
   "outputs": [
    {
     "name": "stdin",
     "output_type": "stream",
     "text": [
      " 3 2 \n"
     ]
    },
    {
     "name": "stdout",
     "output_type": "stream",
     "text": [
      "1\n"
     ]
    }
   ],
   "source": [
    "#W3A4\n",
    "m, n = map(int, input().split())\n",
    "print(m//n)"
   ]
  },
  {
   "cell_type": "code",
   "execution_count": 5,
   "id": "5e46cece-13ae-4f1f-bdcc-e2e09ea1e007",
   "metadata": {},
   "outputs": [
    {
     "name": "stdin",
     "output_type": "stream",
     "text": [
      " 3 2 \n"
     ]
    },
    {
     "name": "stdout",
     "output_type": "stream",
     "text": [
      "2\n"
     ]
    }
   ],
   "source": [
    "#W3A5\n",
    "m, n = map(int, input().split())\n",
    "if(m % n ==0):\n",
    "    print(m //n)\n",
    "else:\n",
    "    print(m // n +1)"
   ]
  },
  {
   "cell_type": "code",
   "execution_count": 8,
   "id": "b3e972c2-3e32-478b-a776-c2ad8bfc41f8",
   "metadata": {},
   "outputs": [
    {
     "name": "stdin",
     "output_type": "stream",
     "text": [
      " 17\n"
     ]
    },
    {
     "name": "stdout",
     "output_type": "stream",
     "text": [
      "odd\n"
     ]
    }
   ],
   "source": [
    "#W3A6\n",
    "x = int(input())\n",
    "if x % 2 == 0:\n",
    "    print('even')\n",
    "else:\n",
    "    print(\"odd\")"
   ]
  },
  {
   "cell_type": "code",
   "execution_count": 9,
   "id": "2e5c6725-c722-42e2-b78a-9bb73b953bc1",
   "metadata": {},
   "outputs": [
    {
     "name": "stdin",
     "output_type": "stream",
     "text": [
      " -5 -7\n"
     ]
    },
    {
     "name": "stdout",
     "output_type": "stream",
     "text": [
      "Yes\n"
     ]
    }
   ],
   "source": [
    "#W3A7\n",
    "m, n = map(int, input().split())\n",
    "if m < 0 and n < 0:\n",
    "    print('Yes')\n",
    "else:\n",
    "    print('No')"
   ]
  },
  {
   "cell_type": "code",
   "execution_count": 13,
   "id": "3c39d058-0045-433d-bc2d-559dbe199ada",
   "metadata": {},
   "outputs": [
    {
     "name": "stdin",
     "output_type": "stream",
     "text": [
      " haiphong hanoi\n"
     ]
    },
    {
     "name": "stdout",
     "output_type": "stream",
     "text": [
      "True\n"
     ]
    }
   ],
   "source": [
    "#W3A8\n",
    "\n",
    "m, n = map(str, input().split())\n",
    "if len(m) > len(n):\n",
    "    print('True')\n",
    "else:\n",
    "    print('No')\n",
    "\n"
   ]
  },
  {
   "cell_type": "code",
   "execution_count": 14,
   "id": "15da4bd5-3285-4fde-b21f-ccb0605c4db5",
   "metadata": {},
   "outputs": [
    {
     "name": "stdin",
     "output_type": "stream",
     "text": [
      " 3 2 4 \n"
     ]
    },
    {
     "name": "stdout",
     "output_type": "stream",
     "text": [
      "Yes\n"
     ]
    }
   ],
   "source": [
    "#W3A9\n",
    "a, b, c = map(int, input().split())\n",
    "if a + b > c or b + c > a or a + c > b:\n",
    "    print(\"Yes\")\n",
    "else:\n",
    "    print(\"No\")\n"
   ]
  },
  {
   "cell_type": "code",
   "execution_count": 15,
   "id": "79fad2e0-2fed-4699-b5ce-04e25fbcb318",
   "metadata": {},
   "outputs": [
    {
     "name": "stdin",
     "output_type": "stream",
     "text": [
      " 2 3 5 2\n"
     ]
    },
    {
     "name": "stdout",
     "output_type": "stream",
     "text": [
      "5\n"
     ]
    }
   ],
   "source": [
    "#W3A10\n",
    "a, b, c, d = map(int, input().split())\n",
    "print(max(a, b, c, d))"
   ]
  },
  {
   "cell_type": "code",
   "execution_count": 21,
   "id": "dcae5d0a-f0e0-4419-a653-ed7df9cf23d3",
   "metadata": {},
   "outputs": [
    {
     "name": "stdin",
     "output_type": "stream",
     "text": [
      " 6 6 6 \n"
     ]
    },
    {
     "name": "stdout",
     "output_type": "stream",
     "text": [
      "tam giac deu\n"
     ]
    }
   ],
   "source": [
    "#W3A11\n",
    "a, b, c = map(int, input().split())\n",
    "if a +b  <= c or a + c <= b or b + c <= a:\n",
    "    print(\"khong phai la tam giac\")\n",
    "else: \n",
    "    if a == b == c:\n",
    "        print('tam giac deu')\n",
    "    elif a == b != c or a == c != b or b == c != a:\n",
    "        print('tam giac can')\n",
    "    elif a*a+b*b == c*c or a*a + c*c== b*b or b*b+c*c==a*a:\n",
    "        print('tam giac vuong')\n",
    "    else:\n",
    "        print('tam giac thuong')"
   ]
  },
  {
   "cell_type": "code",
   "execution_count": 24,
   "id": "1c4947e9-5bc1-4d5b-a5dc-9d391737b88a",
   "metadata": {},
   "outputs": [
    {
     "name": "stdin",
     "output_type": "stream",
     "text": [
      " 2020\n"
     ]
    },
    {
     "name": "stdout",
     "output_type": "stream",
     "text": [
      "nam nhuan\n"
     ]
    }
   ],
   "source": [
    "#W3A12\n",
    "c = int(input())\n",
    "if(c % 400 == 0 or (c % 100 != 0 and c % 4 == 0)):\n",
    "    print(\"nam nhuan\") \n",
    "else:\n",
    "    print(\"khong phai nam nhuan\") "
   ]
  },
  {
   "cell_type": "code",
   "execution_count": 27,
   "id": "07f09ed6-d27d-48e7-b3cb-1f2e843a808e",
   "metadata": {},
   "outputs": [
    {
     "name": "stdin",
     "output_type": "stream",
     "text": [
      " 6 0 \n"
     ]
    },
    {
     "name": "stdout",
     "output_type": "stream",
     "text": [
      "0.0\n"
     ]
    }
   ],
   "source": [
    "#W3A14\n",
    "a, b = map(int, input().split())\n",
    "if a == 0:\n",
    "    if b != 0:\n",
    "        print(\"vo nghiem\")\n",
    "    else:\n",
    "        print('vo so nghiem')\n",
    "else:\n",
    "        print(-b/a)"
   ]
  },
  {
   "cell_type": "code",
   "execution_count": 28,
   "id": "d1b0c29a-d86a-49cb-9b8f-6c490737c386",
   "metadata": {},
   "outputs": [
    {
     "name": "stdin",
     "output_type": "stream",
     "text": [
      " 3.2\n"
     ]
    },
    {
     "name": "stdout",
     "output_type": "stream",
     "text": [
      "Yếu\n"
     ]
    }
   ],
   "source": [
    "#W3A15\n",
    "a = float(input()) \n",
    "if (a >= 8): \n",
    "    print(\"Giỏi\")\n",
    "elif(6.5 <= a < 8): \n",
    "    print(\"Khá\")\n",
    "elif(5 <= a < 6.5): \n",
    "    print(\"Trung bình\")\n",
    "else:\n",
    "    print(\"Yếu\")"
   ]
  },
  {
   "cell_type": "code",
   "execution_count": 38,
   "id": "709e3a57-5576-4ca7-80ee-c499e0d6412e",
   "metadata": {},
   "outputs": [
    {
     "name": "stdin",
     "output_type": "stream",
     "text": [
      " 6\n"
     ]
    },
    {
     "name": "stdout",
     "output_type": "stream",
     "text": [
      "6 6 6\n"
     ]
    }
   ],
   "source": [
    "#W3A16\n",
    "a = float(input())\n",
    "b = int(a)\n",
    "if a == b:\n",
    "    print(b, b, b)\n",
    "else:\n",
    "    print(b + 1, b, end = ' ')\n",
    "    if a - b >= 0.5:\n",
    "        print(b + 1)\n",
    "    else:\n",
    "        print(b)"
   ]
  },
  {
   "cell_type": "code",
   "execution_count": null,
   "id": "d39f566c-1ac8-4e69-8915-33149d33dff6",
   "metadata": {},
   "outputs": [],
   "source": [
    "#W3A17\n",
    "a, b, c, d= map(int, input().split())\n",
    "if b % a != 0:\n",
    "    print('no')\n",
    "else:\n",
    "    q = b// a\n",
    "    if b * q != c:\n",
    "        print('no')\n",
    "    else:\n",
    "        if c * q "
   ]
  }
 ],
 "metadata": {
  "kernelspec": {
   "display_name": "Python 3 (ipykernel)",
   "language": "python",
   "name": "python3"
  },
  "language_info": {
   "codemirror_mode": {
    "name": "ipython",
    "version": 3
   },
   "file_extension": ".py",
   "mimetype": "text/x-python",
   "name": "python",
   "nbconvert_exporter": "python",
   "pygments_lexer": "ipython3",
   "version": "3.13.7"
  }
 },
 "nbformat": 4,
 "nbformat_minor": 5
}
